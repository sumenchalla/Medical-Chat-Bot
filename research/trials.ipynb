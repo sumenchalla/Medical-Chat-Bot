{
 "cells": [
  {
   "cell_type": "code",
   "execution_count": 5,
   "metadata": {},
   "outputs": [
    {
     "name": "stdout",
     "output_type": "stream",
     "text": [
      "[2024-06-13 21:01:11,760: INFO: utils: yaml file: D:\\Data Science\\ML\\Projects\\Medical_chatbot\\config.yaml loaded successfully]\n"
     ]
    }
   ],
   "source": [
    "from src.utils import read_yaml\n",
    "from pathlib import Path\n",
    "\n",
    "da=read_yaml(Path(\"D:\\Data Science\\ML\\Projects\\Medical_chatbot\\config.yaml\"))"
   ]
  },
  {
   "cell_type": "code",
   "execution_count": 13,
   "metadata": {},
   "outputs": [
    {
     "data": {
      "text/plain": [
       "{'artifacts_dir': 'artifacts',\n",
       " 'dataingestion_config': {'root_dir': 'artifacts/data_ingestion',\n",
       "  'source_url': '',\n",
       "  'download_path': 'artifacts/data_ingestion/data.zip',\n",
       "  'unzip_path': 'artifacts/data_ingestion'}}"
      ]
     },
     "execution_count": 13,
     "metadata": {},
     "output_type": "execute_result"
    }
   ],
   "source": [
    "da"
   ]
  },
  {
   "cell_type": "code",
   "execution_count": 14,
   "metadata": {},
   "outputs": [
    {
     "data": {
      "text/plain": [
       "''"
      ]
     },
     "execution_count": 14,
     "metadata": {},
     "output_type": "execute_result"
    }
   ],
   "source": [
    "da[\"dataingestion_config\"][\"source_url\"]"
   ]
  },
  {
   "cell_type": "code",
   "execution_count": 9,
   "metadata": {},
   "outputs": [
    {
     "data": {
      "text/plain": [
       "'d:\\\\Data Science\\\\ML\\\\Projects\\\\Medical_chatbot\\\\research'"
      ]
     },
     "execution_count": 9,
     "metadata": {},
     "output_type": "execute_result"
    }
   ],
   "source": [
    "import os\n",
    "\n",
    "os.getcwd()"
   ]
  },
  {
   "cell_type": "code",
   "execution_count": 12,
   "metadata": {},
   "outputs": [
    {
     "ename": "FileNotFoundError",
     "evalue": "[Errno 2] No such file or directory: '//config.yaml'",
     "output_type": "error",
     "traceback": [
      "\u001b[1;31m---------------------------------------------------------------------------\u001b[0m",
      "\u001b[1;31mFileNotFoundError\u001b[0m                         Traceback (most recent call last)",
      "Cell \u001b[1;32mIn[12], line 1\u001b[0m\n\u001b[1;32m----> 1\u001b[0m config_ds \u001b[38;5;241m=\u001b[39m \u001b[43mread_yaml\u001b[49m\u001b[43m(\u001b[49m\u001b[38;5;124;43m\"\u001b[39;49m\u001b[38;5;124;43m//config.yaml\u001b[39;49m\u001b[38;5;124;43m\"\u001b[39;49m\u001b[43m)\u001b[49m\n",
      "File \u001b[1;32md:\\data science\\ml\\projects\\medical_chatbot\\src\\utils.py:79\u001b[0m, in \u001b[0;36mread_yaml\u001b[1;34m(path_to_yaml)\u001b[0m\n\u001b[0;32m     77\u001b[0m         \u001b[38;5;28;01mreturn\u001b[39;00m content\n\u001b[0;32m     78\u001b[0m \u001b[38;5;28;01mexcept\u001b[39;00m \u001b[38;5;167;01mException\u001b[39;00m \u001b[38;5;28;01mas\u001b[39;00m e:\n\u001b[1;32m---> 79\u001b[0m     \u001b[38;5;28;01mraise\u001b[39;00m e\n",
      "File \u001b[1;32md:\\data science\\ml\\projects\\medical_chatbot\\src\\utils.py:74\u001b[0m, in \u001b[0;36mread_yaml\u001b[1;34m(path_to_yaml)\u001b[0m\n\u001b[0;32m     61\u001b[0m \u001b[38;5;250m\u001b[39m\u001b[38;5;124;03m\"\"\"reads yaml file and returns\u001b[39;00m\n\u001b[0;32m     62\u001b[0m \n\u001b[0;32m     63\u001b[0m \u001b[38;5;124;03mArgs:\u001b[39;00m\n\u001b[1;32m   (...)\u001b[0m\n\u001b[0;32m     71\u001b[0m \u001b[38;5;124;03m    ConfigBox: ConfigBox type\u001b[39;00m\n\u001b[0;32m     72\u001b[0m \u001b[38;5;124;03m\"\"\"\u001b[39;00m\n\u001b[0;32m     73\u001b[0m \u001b[38;5;28;01mtry\u001b[39;00m:\n\u001b[1;32m---> 74\u001b[0m     \u001b[38;5;28;01mwith\u001b[39;00m \u001b[38;5;28;43mopen\u001b[39;49m\u001b[43m(\u001b[49m\u001b[43mpath_to_yaml\u001b[49m\u001b[43m)\u001b[49m \u001b[38;5;28;01mas\u001b[39;00m yaml_file:\n\u001b[0;32m     75\u001b[0m         content \u001b[38;5;241m=\u001b[39m yaml\u001b[38;5;241m.\u001b[39msafe_load(yaml_file)\n\u001b[0;32m     76\u001b[0m         logging\u001b[38;5;241m.\u001b[39minfo(\u001b[38;5;124mf\u001b[39m\u001b[38;5;124m\"\u001b[39m\u001b[38;5;124myaml file: \u001b[39m\u001b[38;5;132;01m{\u001b[39;00mpath_to_yaml\u001b[38;5;132;01m}\u001b[39;00m\u001b[38;5;124m loaded successfully\u001b[39m\u001b[38;5;124m\"\u001b[39m)\n",
      "\u001b[1;31mFileNotFoundError\u001b[0m: [Errno 2] No such file or directory: '//config.yaml'"
     ]
    }
   ],
   "source": [
    "config_ds = read_yaml(\"//config.yaml\")"
   ]
  },
  {
   "cell_type": "code",
   "execution_count": 15,
   "metadata": {},
   "outputs": [],
   "source": [
    "del da"
   ]
  },
  {
   "cell_type": "code",
   "execution_count": 1,
   "metadata": {},
   "outputs": [
    {
     "name": "stdout",
     "output_type": "stream",
     "text": [
      "[2024-06-14 10:31:49,354: INFO: utils: yaml file: D:\\Data Science\\ML\\Projects\\Medical_chatbot\\config.yaml loaded successfully]\n"
     ]
    }
   ],
   "source": [
    "from src.components.dataingestion import DataIngestion\n",
    "\n",
    "ingestion = DataIngestion()\n",
    "\n",
    "ingestion.unzip_file()\n"
   ]
  },
  {
   "cell_type": "code",
   "execution_count": 2,
   "metadata": {},
   "outputs": [
    {
     "name": "stdout",
     "output_type": "stream",
     "text": [
      "[2024-06-14 10:31:51,664: INFO: dataingestion: Data Ingestion method starts]\n",
      "[2024-06-14 10:31:51,689: INFO: dataingestion: Error occured during the data ingestion]\n"
     ]
    },
    {
     "ename": "UnicodeDecodeError",
     "evalue": "'utf-8' codec can't decode byte 0xff in position 0: invalid start byte",
     "output_type": "error",
     "traceback": [
      "\u001b[1;31m---------------------------------------------------------------------------\u001b[0m",
      "\u001b[1;31mUnicodeDecodeError\u001b[0m                        Traceback (most recent call last)",
      "Cell \u001b[1;32mIn[2], line 1\u001b[0m\n\u001b[1;32m----> 1\u001b[0m \u001b[43mingestion\u001b[49m\u001b[38;5;241;43m.\u001b[39;49m\u001b[43minitiate_data_ingestion\u001b[49m\u001b[43m(\u001b[49m\u001b[43m)\u001b[49m\n",
      "File \u001b[1;32md:\\data science\\ml\\projects\\medical_chatbot\\src\\components\\dataingestion.py:63\u001b[0m, in \u001b[0;36mDataIngestion.initiate_data_ingestion\u001b[1;34m(self)\u001b[0m\n\u001b[0;32m     61\u001b[0m \u001b[38;5;28;01mexcept\u001b[39;00m \u001b[38;5;167;01mException\u001b[39;00m \u001b[38;5;28;01mas\u001b[39;00m e:\n\u001b[0;32m     62\u001b[0m     logging\u001b[38;5;241m.\u001b[39minfo(\u001b[38;5;124m\"\u001b[39m\u001b[38;5;124mError occured during the data ingestion\u001b[39m\u001b[38;5;124m\"\u001b[39m)\n\u001b[1;32m---> 63\u001b[0m     \u001b[38;5;28;01mraise\u001b[39;00m e\n",
      "File \u001b[1;32md:\\data science\\ml\\projects\\medical_chatbot\\src\\components\\dataingestion.py:46\u001b[0m, in \u001b[0;36mDataIngestion.initiate_data_ingestion\u001b[1;34m(self)\u001b[0m\n\u001b[0;32m     43\u001b[0m data_path \u001b[38;5;241m=\u001b[39m \u001b[38;5;28mself\u001b[39m\u001b[38;5;241m.\u001b[39mcongif\u001b[38;5;241m.\u001b[39munzip_path\n\u001b[0;32m     45\u001b[0m \u001b[38;5;28;01mtry\u001b[39;00m:\n\u001b[1;32m---> 46\u001b[0m     df \u001b[38;5;241m=\u001b[39m \u001b[43mpd\u001b[49m\u001b[38;5;241;43m.\u001b[39;49m\u001b[43mread_csv\u001b[49m\u001b[43m(\u001b[49m\u001b[43mjoin\u001b[49m\u001b[43m(\u001b[49m\u001b[43mdata_path\u001b[49m\u001b[43m,\u001b[49m\u001b[38;5;124;43m\"\u001b[39;49m\u001b[38;5;124;43mdisease and symptoms.csv\u001b[39;49m\u001b[38;5;124;43m\"\u001b[39;49m\u001b[43m)\u001b[49m\u001b[43m)\u001b[49m \u001b[38;5;66;03m#for every different project we have to change this\u001b[39;00m\n\u001b[0;32m     47\u001b[0m     logging\u001b[38;5;241m.\u001b[39minfo(\u001b[38;5;124m\"\u001b[39m\u001b[38;5;124mData was sucessfully read as Pandas DataFrame\u001b[39m\u001b[38;5;124m\"\u001b[39m)\n\u001b[0;32m     48\u001b[0m     train_data, test_data \u001b[38;5;241m=\u001b[39m train_test_split(df,test_size\u001b[38;5;241m=\u001b[39m\u001b[38;5;241m0.2\u001b[39m,random_state\u001b[38;5;241m=\u001b[39m\u001b[38;5;241m17\u001b[39m)\n",
      "File \u001b[1;32mc:\\Users\\sumen\\anaconda3\\envs\\myenv\\lib\\site-packages\\pandas\\io\\parsers\\readers.py:912\u001b[0m, in \u001b[0;36mread_csv\u001b[1;34m(filepath_or_buffer, sep, delimiter, header, names, index_col, usecols, dtype, engine, converters, true_values, false_values, skipinitialspace, skiprows, skipfooter, nrows, na_values, keep_default_na, na_filter, verbose, skip_blank_lines, parse_dates, infer_datetime_format, keep_date_col, date_parser, date_format, dayfirst, cache_dates, iterator, chunksize, compression, thousands, decimal, lineterminator, quotechar, quoting, doublequote, escapechar, comment, encoding, encoding_errors, dialect, on_bad_lines, delim_whitespace, low_memory, memory_map, float_precision, storage_options, dtype_backend)\u001b[0m\n\u001b[0;32m    899\u001b[0m kwds_defaults \u001b[38;5;241m=\u001b[39m _refine_defaults_read(\n\u001b[0;32m    900\u001b[0m     dialect,\n\u001b[0;32m    901\u001b[0m     delimiter,\n\u001b[1;32m   (...)\u001b[0m\n\u001b[0;32m    908\u001b[0m     dtype_backend\u001b[38;5;241m=\u001b[39mdtype_backend,\n\u001b[0;32m    909\u001b[0m )\n\u001b[0;32m    910\u001b[0m kwds\u001b[38;5;241m.\u001b[39mupdate(kwds_defaults)\n\u001b[1;32m--> 912\u001b[0m \u001b[38;5;28;01mreturn\u001b[39;00m \u001b[43m_read\u001b[49m\u001b[43m(\u001b[49m\u001b[43mfilepath_or_buffer\u001b[49m\u001b[43m,\u001b[49m\u001b[43m \u001b[49m\u001b[43mkwds\u001b[49m\u001b[43m)\u001b[49m\n",
      "File \u001b[1;32mc:\\Users\\sumen\\anaconda3\\envs\\myenv\\lib\\site-packages\\pandas\\io\\parsers\\readers.py:577\u001b[0m, in \u001b[0;36m_read\u001b[1;34m(filepath_or_buffer, kwds)\u001b[0m\n\u001b[0;32m    574\u001b[0m _validate_names(kwds\u001b[38;5;241m.\u001b[39mget(\u001b[38;5;124m\"\u001b[39m\u001b[38;5;124mnames\u001b[39m\u001b[38;5;124m\"\u001b[39m, \u001b[38;5;28;01mNone\u001b[39;00m))\n\u001b[0;32m    576\u001b[0m \u001b[38;5;66;03m# Create the parser.\u001b[39;00m\n\u001b[1;32m--> 577\u001b[0m parser \u001b[38;5;241m=\u001b[39m \u001b[43mTextFileReader\u001b[49m\u001b[43m(\u001b[49m\u001b[43mfilepath_or_buffer\u001b[49m\u001b[43m,\u001b[49m\u001b[43m \u001b[49m\u001b[38;5;241;43m*\u001b[39;49m\u001b[38;5;241;43m*\u001b[39;49m\u001b[43mkwds\u001b[49m\u001b[43m)\u001b[49m\n\u001b[0;32m    579\u001b[0m \u001b[38;5;28;01mif\u001b[39;00m chunksize \u001b[38;5;129;01mor\u001b[39;00m iterator:\n\u001b[0;32m    580\u001b[0m     \u001b[38;5;28;01mreturn\u001b[39;00m parser\n",
      "File \u001b[1;32mc:\\Users\\sumen\\anaconda3\\envs\\myenv\\lib\\site-packages\\pandas\\io\\parsers\\readers.py:1407\u001b[0m, in \u001b[0;36mTextFileReader.__init__\u001b[1;34m(self, f, engine, **kwds)\u001b[0m\n\u001b[0;32m   1404\u001b[0m     \u001b[38;5;28mself\u001b[39m\u001b[38;5;241m.\u001b[39moptions[\u001b[38;5;124m\"\u001b[39m\u001b[38;5;124mhas_index_names\u001b[39m\u001b[38;5;124m\"\u001b[39m] \u001b[38;5;241m=\u001b[39m kwds[\u001b[38;5;124m\"\u001b[39m\u001b[38;5;124mhas_index_names\u001b[39m\u001b[38;5;124m\"\u001b[39m]\n\u001b[0;32m   1406\u001b[0m \u001b[38;5;28mself\u001b[39m\u001b[38;5;241m.\u001b[39mhandles: IOHandles \u001b[38;5;241m|\u001b[39m \u001b[38;5;28;01mNone\u001b[39;00m \u001b[38;5;241m=\u001b[39m \u001b[38;5;28;01mNone\u001b[39;00m\n\u001b[1;32m-> 1407\u001b[0m \u001b[38;5;28mself\u001b[39m\u001b[38;5;241m.\u001b[39m_engine \u001b[38;5;241m=\u001b[39m \u001b[38;5;28;43mself\u001b[39;49m\u001b[38;5;241;43m.\u001b[39;49m\u001b[43m_make_engine\u001b[49m\u001b[43m(\u001b[49m\u001b[43mf\u001b[49m\u001b[43m,\u001b[49m\u001b[43m \u001b[49m\u001b[38;5;28;43mself\u001b[39;49m\u001b[38;5;241;43m.\u001b[39;49m\u001b[43mengine\u001b[49m\u001b[43m)\u001b[49m\n",
      "File \u001b[1;32mc:\\Users\\sumen\\anaconda3\\envs\\myenv\\lib\\site-packages\\pandas\\io\\parsers\\readers.py:1679\u001b[0m, in \u001b[0;36mTextFileReader._make_engine\u001b[1;34m(self, f, engine)\u001b[0m\n\u001b[0;32m   1676\u001b[0m     \u001b[38;5;28;01mraise\u001b[39;00m \u001b[38;5;167;01mValueError\u001b[39;00m(msg)\n\u001b[0;32m   1678\u001b[0m \u001b[38;5;28;01mtry\u001b[39;00m:\n\u001b[1;32m-> 1679\u001b[0m     \u001b[38;5;28;01mreturn\u001b[39;00m \u001b[43mmapping\u001b[49m\u001b[43m[\u001b[49m\u001b[43mengine\u001b[49m\u001b[43m]\u001b[49m\u001b[43m(\u001b[49m\u001b[43mf\u001b[49m\u001b[43m,\u001b[49m\u001b[43m \u001b[49m\u001b[38;5;241;43m*\u001b[39;49m\u001b[38;5;241;43m*\u001b[39;49m\u001b[38;5;28;43mself\u001b[39;49m\u001b[38;5;241;43m.\u001b[39;49m\u001b[43moptions\u001b[49m\u001b[43m)\u001b[49m\n\u001b[0;32m   1680\u001b[0m \u001b[38;5;28;01mexcept\u001b[39;00m \u001b[38;5;167;01mException\u001b[39;00m:\n\u001b[0;32m   1681\u001b[0m     \u001b[38;5;28;01mif\u001b[39;00m \u001b[38;5;28mself\u001b[39m\u001b[38;5;241m.\u001b[39mhandles \u001b[38;5;129;01mis\u001b[39;00m \u001b[38;5;129;01mnot\u001b[39;00m \u001b[38;5;28;01mNone\u001b[39;00m:\n",
      "File \u001b[1;32mc:\\Users\\sumen\\anaconda3\\envs\\myenv\\lib\\site-packages\\pandas\\io\\parsers\\c_parser_wrapper.py:93\u001b[0m, in \u001b[0;36mCParserWrapper.__init__\u001b[1;34m(self, src, **kwds)\u001b[0m\n\u001b[0;32m     90\u001b[0m \u001b[38;5;28;01mif\u001b[39;00m kwds[\u001b[38;5;124m\"\u001b[39m\u001b[38;5;124mdtype_backend\u001b[39m\u001b[38;5;124m\"\u001b[39m] \u001b[38;5;241m==\u001b[39m \u001b[38;5;124m\"\u001b[39m\u001b[38;5;124mpyarrow\u001b[39m\u001b[38;5;124m\"\u001b[39m:\n\u001b[0;32m     91\u001b[0m     \u001b[38;5;66;03m# Fail here loudly instead of in cython after reading\u001b[39;00m\n\u001b[0;32m     92\u001b[0m     import_optional_dependency(\u001b[38;5;124m\"\u001b[39m\u001b[38;5;124mpyarrow\u001b[39m\u001b[38;5;124m\"\u001b[39m)\n\u001b[1;32m---> 93\u001b[0m \u001b[38;5;28mself\u001b[39m\u001b[38;5;241m.\u001b[39m_reader \u001b[38;5;241m=\u001b[39m \u001b[43mparsers\u001b[49m\u001b[38;5;241;43m.\u001b[39;49m\u001b[43mTextReader\u001b[49m\u001b[43m(\u001b[49m\u001b[43msrc\u001b[49m\u001b[43m,\u001b[49m\u001b[43m \u001b[49m\u001b[38;5;241;43m*\u001b[39;49m\u001b[38;5;241;43m*\u001b[39;49m\u001b[43mkwds\u001b[49m\u001b[43m)\u001b[49m\n\u001b[0;32m     95\u001b[0m \u001b[38;5;28mself\u001b[39m\u001b[38;5;241m.\u001b[39munnamed_cols \u001b[38;5;241m=\u001b[39m \u001b[38;5;28mself\u001b[39m\u001b[38;5;241m.\u001b[39m_reader\u001b[38;5;241m.\u001b[39munnamed_cols\n\u001b[0;32m     97\u001b[0m \u001b[38;5;66;03m# error: Cannot determine type of 'names'\u001b[39;00m\n",
      "File \u001b[1;32mc:\\Users\\sumen\\anaconda3\\envs\\myenv\\lib\\site-packages\\pandas\\_libs\\parsers.pyx:550\u001b[0m, in \u001b[0;36mpandas._libs.parsers.TextReader.__cinit__\u001b[1;34m()\u001b[0m\n",
      "File \u001b[1;32mc:\\Users\\sumen\\anaconda3\\envs\\myenv\\lib\\site-packages\\pandas\\_libs\\parsers.pyx:639\u001b[0m, in \u001b[0;36mpandas._libs.parsers.TextReader._get_header\u001b[1;34m()\u001b[0m\n",
      "File \u001b[1;32mc:\\Users\\sumen\\anaconda3\\envs\\myenv\\lib\\site-packages\\pandas\\_libs\\parsers.pyx:850\u001b[0m, in \u001b[0;36mpandas._libs.parsers.TextReader._tokenize_rows\u001b[1;34m()\u001b[0m\n",
      "File \u001b[1;32mc:\\Users\\sumen\\anaconda3\\envs\\myenv\\lib\\site-packages\\pandas\\_libs\\parsers.pyx:861\u001b[0m, in \u001b[0;36mpandas._libs.parsers.TextReader._check_tokenize_status\u001b[1;34m()\u001b[0m\n",
      "File \u001b[1;32mc:\\Users\\sumen\\anaconda3\\envs\\myenv\\lib\\site-packages\\pandas\\_libs\\parsers.pyx:2021\u001b[0m, in \u001b[0;36mpandas._libs.parsers.raise_parser_error\u001b[1;34m()\u001b[0m\n",
      "\u001b[1;31mUnicodeDecodeError\u001b[0m: 'utf-8' codec can't decode byte 0xff in position 0: invalid start byte"
     ]
    }
   ],
   "source": [
    "ingestion.initiate_data_ingestion()"
   ]
  },
  {
   "cell_type": "code",
   "execution_count": 3,
   "metadata": {},
   "outputs": [
    {
     "data": {
      "text/plain": [
       "'D:\\\\Data Science\\\\ML\\\\Projects\\\\Medical_chatbot\\\\artifacts\\\\data_ingestion'"
      ]
     },
     "execution_count": 3,
     "metadata": {},
     "output_type": "execute_result"
    }
   ],
   "source": [
    "from src.config.configuration import dataingestionconfig\n",
    "\n",
    "obj = dataingestionconfig()\n",
    "\n",
    "\n",
    "obj.unzip_path"
   ]
  },
  {
   "cell_type": "code",
   "execution_count": 2,
   "metadata": {},
   "outputs": [],
   "source": [
    "import pandas as pd\n",
    "import chardet\n",
    "from pathlib import Path\n"
   ]
  },
  {
   "cell_type": "code",
   "execution_count": 3,
   "metadata": {},
   "outputs": [],
   "source": [
    "df = pd.read_csv('D:\\\\Data Science\\\\ML\\\\Projects\\\\Medical_chatbot\\\\artifacts\\\\data_ingestion\\\\dataset.csv',on_bad_lines='skip')"
   ]
  },
  {
   "cell_type": "code",
   "execution_count": 4,
   "metadata": {},
   "outputs": [
    {
     "data": {
      "text/html": [
       "<div>\n",
       "<style scoped>\n",
       "    .dataframe tbody tr th:only-of-type {\n",
       "        vertical-align: middle;\n",
       "    }\n",
       "\n",
       "    .dataframe tbody tr th {\n",
       "        vertical-align: top;\n",
       "    }\n",
       "\n",
       "    .dataframe thead th {\n",
       "        text-align: right;\n",
       "    }\n",
       "</style>\n",
       "<table border=\"1\" class=\"dataframe\">\n",
       "  <thead>\n",
       "    <tr style=\"text-align: right;\">\n",
       "      <th></th>\n",
       "      <th>Unnamed: 0</th>\n",
       "      <th>Disease</th>\n",
       "      <th>Symptom_1</th>\n",
       "      <th>Symptom_2</th>\n",
       "      <th>Symptom_3</th>\n",
       "      <th>Symptom_4</th>\n",
       "      <th>Symptom_5</th>\n",
       "      <th>Symptom_6</th>\n",
       "      <th>Symptom_7</th>\n",
       "      <th>Symptom_8</th>\n",
       "      <th>...</th>\n",
       "      <th>Symptom_10</th>\n",
       "      <th>Symptom_11</th>\n",
       "      <th>Symptom_12</th>\n",
       "      <th>Symptom_13</th>\n",
       "      <th>Symptom_14</th>\n",
       "      <th>Symptom_15</th>\n",
       "      <th>Symptom_16</th>\n",
       "      <th>Symptom_17</th>\n",
       "      <th>symptoms</th>\n",
       "      <th>features</th>\n",
       "    </tr>\n",
       "  </thead>\n",
       "  <tbody>\n",
       "    <tr>\n",
       "      <th>0</th>\n",
       "      <td>0</td>\n",
       "      <td>Fungal infection</td>\n",
       "      <td>itching</td>\n",
       "      <td>skin_rash</td>\n",
       "      <td>nodal_skin_eruptions</td>\n",
       "      <td>dischromic _patches</td>\n",
       "      <td>NaN</td>\n",
       "      <td>NaN</td>\n",
       "      <td>NaN</td>\n",
       "      <td>NaN</td>\n",
       "      <td>...</td>\n",
       "      <td>NaN</td>\n",
       "      <td>NaN</td>\n",
       "      <td>NaN</td>\n",
       "      <td>NaN</td>\n",
       "      <td>NaN</td>\n",
       "      <td>NaN</td>\n",
       "      <td>NaN</td>\n",
       "      <td>NaN</td>\n",
       "      <td>['itching', 'skin_rash', 'nodal_skin_eruptions...</td>\n",
       "      <td>[0, 1, 2, 3, 4]</td>\n",
       "    </tr>\n",
       "    <tr>\n",
       "      <th>1</th>\n",
       "      <td>1</td>\n",
       "      <td>Fungal infection</td>\n",
       "      <td>skin_rash</td>\n",
       "      <td>nodal_skin_eruptions</td>\n",
       "      <td>dischromic _patches</td>\n",
       "      <td>NaN</td>\n",
       "      <td>NaN</td>\n",
       "      <td>NaN</td>\n",
       "      <td>NaN</td>\n",
       "      <td>NaN</td>\n",
       "      <td>...</td>\n",
       "      <td>NaN</td>\n",
       "      <td>NaN</td>\n",
       "      <td>NaN</td>\n",
       "      <td>NaN</td>\n",
       "      <td>NaN</td>\n",
       "      <td>NaN</td>\n",
       "      <td>NaN</td>\n",
       "      <td>NaN</td>\n",
       "      <td>['skin_rash', 'nodal_skin_eruptions', 'dischro...</td>\n",
       "      <td>[1, 2, 3, 4]</td>\n",
       "    </tr>\n",
       "    <tr>\n",
       "      <th>2</th>\n",
       "      <td>2</td>\n",
       "      <td>Fungal infection</td>\n",
       "      <td>itching</td>\n",
       "      <td>nodal_skin_eruptions</td>\n",
       "      <td>dischromic _patches</td>\n",
       "      <td>NaN</td>\n",
       "      <td>NaN</td>\n",
       "      <td>NaN</td>\n",
       "      <td>NaN</td>\n",
       "      <td>NaN</td>\n",
       "      <td>...</td>\n",
       "      <td>NaN</td>\n",
       "      <td>NaN</td>\n",
       "      <td>NaN</td>\n",
       "      <td>NaN</td>\n",
       "      <td>NaN</td>\n",
       "      <td>NaN</td>\n",
       "      <td>NaN</td>\n",
       "      <td>NaN</td>\n",
       "      <td>['itching', 'nodal_skin_eruptions', 'dischromi...</td>\n",
       "      <td>[0, 2, 3, 4]</td>\n",
       "    </tr>\n",
       "    <tr>\n",
       "      <th>3</th>\n",
       "      <td>3</td>\n",
       "      <td>Fungal infection</td>\n",
       "      <td>itching</td>\n",
       "      <td>skin_rash</td>\n",
       "      <td>dischromic _patches</td>\n",
       "      <td>NaN</td>\n",
       "      <td>NaN</td>\n",
       "      <td>NaN</td>\n",
       "      <td>NaN</td>\n",
       "      <td>NaN</td>\n",
       "      <td>...</td>\n",
       "      <td>NaN</td>\n",
       "      <td>NaN</td>\n",
       "      <td>NaN</td>\n",
       "      <td>NaN</td>\n",
       "      <td>NaN</td>\n",
       "      <td>NaN</td>\n",
       "      <td>NaN</td>\n",
       "      <td>NaN</td>\n",
       "      <td>['itching', 'skin_rash', 'dischromic', '_patch...</td>\n",
       "      <td>[0, 1, 3, 4]</td>\n",
       "    </tr>\n",
       "    <tr>\n",
       "      <th>4</th>\n",
       "      <td>4</td>\n",
       "      <td>Fungal infection</td>\n",
       "      <td>itching</td>\n",
       "      <td>skin_rash</td>\n",
       "      <td>nodal_skin_eruptions</td>\n",
       "      <td>NaN</td>\n",
       "      <td>NaN</td>\n",
       "      <td>NaN</td>\n",
       "      <td>NaN</td>\n",
       "      <td>NaN</td>\n",
       "      <td>...</td>\n",
       "      <td>NaN</td>\n",
       "      <td>NaN</td>\n",
       "      <td>NaN</td>\n",
       "      <td>NaN</td>\n",
       "      <td>NaN</td>\n",
       "      <td>NaN</td>\n",
       "      <td>NaN</td>\n",
       "      <td>NaN</td>\n",
       "      <td>['itching', 'skin_rash', 'nodal_skin_eruptions']</td>\n",
       "      <td>[0, 1, 2]</td>\n",
       "    </tr>\n",
       "  </tbody>\n",
       "</table>\n",
       "<p>5 rows × 21 columns</p>\n",
       "</div>"
      ],
      "text/plain": [
       "   Unnamed: 0           Disease   Symptom_1              Symptom_2  \\\n",
       "0           0  Fungal infection     itching              skin_rash   \n",
       "1           1  Fungal infection   skin_rash   nodal_skin_eruptions   \n",
       "2           2  Fungal infection     itching   nodal_skin_eruptions   \n",
       "3           3  Fungal infection     itching              skin_rash   \n",
       "4           4  Fungal infection     itching              skin_rash   \n",
       "\n",
       "               Symptom_3             Symptom_4 Symptom_5 Symptom_6 Symptom_7  \\\n",
       "0   nodal_skin_eruptions   dischromic _patches       NaN       NaN       NaN   \n",
       "1    dischromic _patches                   NaN       NaN       NaN       NaN   \n",
       "2    dischromic _patches                   NaN       NaN       NaN       NaN   \n",
       "3    dischromic _patches                   NaN       NaN       NaN       NaN   \n",
       "4   nodal_skin_eruptions                   NaN       NaN       NaN       NaN   \n",
       "\n",
       "  Symptom_8  ... Symptom_10 Symptom_11 Symptom_12 Symptom_13 Symptom_14  \\\n",
       "0       NaN  ...        NaN        NaN        NaN        NaN        NaN   \n",
       "1       NaN  ...        NaN        NaN        NaN        NaN        NaN   \n",
       "2       NaN  ...        NaN        NaN        NaN        NaN        NaN   \n",
       "3       NaN  ...        NaN        NaN        NaN        NaN        NaN   \n",
       "4       NaN  ...        NaN        NaN        NaN        NaN        NaN   \n",
       "\n",
       "  Symptom_15 Symptom_16 Symptom_17  \\\n",
       "0        NaN        NaN        NaN   \n",
       "1        NaN        NaN        NaN   \n",
       "2        NaN        NaN        NaN   \n",
       "3        NaN        NaN        NaN   \n",
       "4        NaN        NaN        NaN   \n",
       "\n",
       "                                            symptoms         features  \n",
       "0  ['itching', 'skin_rash', 'nodal_skin_eruptions...  [0, 1, 2, 3, 4]  \n",
       "1  ['skin_rash', 'nodal_skin_eruptions', 'dischro...     [1, 2, 3, 4]  \n",
       "2  ['itching', 'nodal_skin_eruptions', 'dischromi...     [0, 2, 3, 4]  \n",
       "3  ['itching', 'skin_rash', 'dischromic', '_patch...     [0, 1, 3, 4]  \n",
       "4   ['itching', 'skin_rash', 'nodal_skin_eruptions']        [0, 1, 2]  \n",
       "\n",
       "[5 rows x 21 columns]"
      ]
     },
     "execution_count": 4,
     "metadata": {},
     "output_type": "execute_result"
    }
   ],
   "source": [
    "df.head()"
   ]
  },
  {
   "cell_type": "code",
   "execution_count": 47,
   "metadata": {},
   "outputs": [],
   "source": [
    "df['symptoms'] = df.apply(lambda row: ' '.join(row.iloc[1:].values.astype(str)), axis=1)"
   ]
  },
  {
   "cell_type": "code",
   "execution_count": 48,
   "metadata": {},
   "outputs": [
    {
     "data": {
      "text/plain": [
       "'itching  skin_rash  nodal_skin_eruptions  dischromic _patches nan nan nan nan nan nan nan nan nan nan nan nan nan'"
      ]
     },
     "execution_count": 48,
     "metadata": {},
     "output_type": "execute_result"
    }
   ],
   "source": [
    "df[\"symptoms\"][0]"
   ]
  },
  {
   "cell_type": "code",
   "execution_count": 49,
   "metadata": {},
   "outputs": [],
   "source": [
    "\n",
    "for i in range(len(list(df[\"symptoms\"]))):\n",
    "                df[\"symptoms\"][i]=str(df[\"symptoms\"][i]).replace(\" nan\",\"\")\n",
    "                df[\"symptoms\"][i]=str(df[\"symptoms\"][i]).split()\n",
    "#df[\"symptoms\"] = df[\"symptoms\"].replace(\"nan\",\"\")"
   ]
  },
  {
   "cell_type": "code",
   "execution_count": 53,
   "metadata": {},
   "outputs": [],
   "source": [
    "Tokens=[]\n",
    "for i in df[\"symptoms\"]:\n",
    "    Tokens.append(i)"
   ]
  },
  {
   "cell_type": "code",
   "execution_count": 55,
   "metadata": {},
   "outputs": [],
   "source": [
    "total_words=[]\n",
    "for i in Tokens:\n",
    "    for j in i:\n",
    "        total_words.append(j)"
   ]
  },
  {
   "cell_type": "code",
   "execution_count": 61,
   "metadata": {},
   "outputs": [],
   "source": [
    "word_dict={}\n",
    "j=0\n",
    "for i in total_words:\n",
    "    if i not in word_dict.keys():\n",
    "        word_dict[i]=j\n",
    "        j+=1"
   ]
  },
  {
   "cell_type": "code",
   "execution_count": 67,
   "metadata": {},
   "outputs": [],
   "source": [
    "df[\"features\"]=\"\"\n",
    "for i,lst in enumerate(df[\"symptoms\"]):\n",
    "    features=[]\n",
    "    for j in lst:\n",
    "        features.append(word_dict[j])\n",
    "    df[\"features\"][i] = features\n"
   ]
  },
  {
   "cell_type": "code",
   "execution_count": 69,
   "metadata": {},
   "outputs": [
    {
     "name": "stdout",
     "output_type": "stream",
     "text": [
      "0                   [0, 1, 2, 3, 4]\n",
      "1                      [1, 2, 3, 4]\n",
      "2                      [0, 2, 3, 4]\n",
      "3                      [0, 1, 3, 4]\n",
      "4                         [0, 1, 2]\n",
      "                   ...             \n",
      "4915     [12, 46, 16, 118, 48, 119]\n",
      "4916             [1, 120, 121, 122]\n",
      "4917       [20, 123, 124, 125, 126]\n",
      "4918    [1, 66, 127, 128, 129, 130]\n",
      "4919         [1, 28, 131, 132, 133]\n",
      "Name: features, Length: 4920, dtype: object\n"
     ]
    }
   ],
   "source": [
    "df[\"features\"]"
   ]
  },
  {
   "cell_type": "code",
   "execution_count": 62,
   "metadata": {},
   "outputs": [
    {
     "data": {
      "text/plain": [
       "{'itching': 0,\n",
       " 'skin_rash': 1,\n",
       " 'nodal_skin_eruptions': 2,\n",
       " 'dischromic': 3,\n",
       " '_patches': 4,\n",
       " 'continuous_sneezing': 5,\n",
       " 'shivering': 6,\n",
       " 'chills': 7,\n",
       " 'watering_from_eyes': 8,\n",
       " 'stomach_pain': 9,\n",
       " 'acidity': 10,\n",
       " 'ulcers_on_tongue': 11,\n",
       " 'vomiting': 12,\n",
       " 'cough': 13,\n",
       " 'chest_pain': 14,\n",
       " 'yellowish_skin': 15,\n",
       " 'nausea': 16,\n",
       " 'loss_of_appetite': 17,\n",
       " 'abdominal_pain': 18,\n",
       " 'yellowing_of_eyes': 19,\n",
       " 'burning_micturition': 20,\n",
       " 'spotting_': 21,\n",
       " 'urination': 22,\n",
       " 'passage_of_gases': 23,\n",
       " 'internal_itching': 24,\n",
       " 'indigestion': 25,\n",
       " 'muscle_wasting': 26,\n",
       " 'patches_in_throat': 27,\n",
       " 'high_fever': 28,\n",
       " 'extra_marital_contacts': 29,\n",
       " 'fatigue': 30,\n",
       " 'weight_loss': 31,\n",
       " 'restlessness': 32,\n",
       " 'lethargy': 33,\n",
       " 'irregular_sugar_level': 34,\n",
       " 'blurred_and_distorted_vision': 35,\n",
       " 'obesity': 36,\n",
       " 'excessive_hunger': 37,\n",
       " 'increased_appetite': 38,\n",
       " 'polyuria': 39,\n",
       " 'sunken_eyes': 40,\n",
       " 'dehydration': 41,\n",
       " 'diarrhoea': 42,\n",
       " 'breathlessness': 43,\n",
       " 'family_history': 44,\n",
       " 'mucoid_sputum': 45,\n",
       " 'headache': 46,\n",
       " 'dizziness': 47,\n",
       " 'loss_of_balance': 48,\n",
       " 'lack_of_concentration': 49,\n",
       " 'stiff_neck': 50,\n",
       " 'depression': 51,\n",
       " 'irritability': 52,\n",
       " 'visual_disturbances': 53,\n",
       " 'back_pain': 54,\n",
       " 'weakness_in_limbs': 55,\n",
       " 'neck_pain': 56,\n",
       " 'weakness_of_one_body_side': 57,\n",
       " 'altered_sensorium': 58,\n",
       " 'dark_urine': 59,\n",
       " 'sweating': 60,\n",
       " 'muscle_pain': 61,\n",
       " 'mild_fever': 62,\n",
       " 'swelled_lymph_nodes': 63,\n",
       " 'malaise': 64,\n",
       " 'red_spots_over_body': 65,\n",
       " 'joint_pain': 66,\n",
       " 'pain_behind_the_eyes': 67,\n",
       " 'constipation': 68,\n",
       " 'toxic_look_(typhos)': 69,\n",
       " 'belly_pain': 70,\n",
       " 'yellow_urine': 71,\n",
       " 'receiving_blood_transfusion': 72,\n",
       " 'receiving_unsterile_injections': 73,\n",
       " 'coma': 74,\n",
       " 'stomach_bleeding': 75,\n",
       " 'acute_liver_failure': 76,\n",
       " 'swelling_of_stomach': 77,\n",
       " 'distention_of_abdomen': 78,\n",
       " 'history_of_alcohol_consumption': 79,\n",
       " 'fluid_overload': 80,\n",
       " 'phlegm': 81,\n",
       " 'blood_in_sputum': 82,\n",
       " 'throat_irritation': 83,\n",
       " 'redness_of_eyes': 84,\n",
       " 'sinus_pressure': 85,\n",
       " 'runny_nose': 86,\n",
       " 'congestion': 87,\n",
       " 'loss_of_smell': 88,\n",
       " 'fast_heart_rate': 89,\n",
       " 'rusty_sputum': 90,\n",
       " 'pain_during_bowel_movements': 91,\n",
       " 'pain_in_anal_region': 92,\n",
       " 'bloody_stool': 93,\n",
       " 'irritation_in_anus': 94,\n",
       " 'cramps': 95,\n",
       " 'bruising': 96,\n",
       " 'swollen_legs': 97,\n",
       " 'swollen_blood_vessels': 98,\n",
       " 'prominent_veins_on_calf': 99,\n",
       " 'weight_gain': 100,\n",
       " 'cold_hands_and_feets': 101,\n",
       " 'mood_swings': 102,\n",
       " 'puffy_face_and_eyes': 103,\n",
       " 'enlarged_thyroid': 104,\n",
       " 'brittle_nails': 105,\n",
       " 'swollen_extremeties': 106,\n",
       " 'abnormal_menstruation': 107,\n",
       " 'muscle_weakness': 108,\n",
       " 'anxiety': 109,\n",
       " 'slurred_speech': 110,\n",
       " 'palpitations': 111,\n",
       " 'drying_and_tingling_lips': 112,\n",
       " 'knee_pain': 113,\n",
       " 'hip_joint_pain': 114,\n",
       " 'swelling_joints': 115,\n",
       " 'painful_walking': 116,\n",
       " 'movement_stiffness': 117,\n",
       " 'spinning_movements': 118,\n",
       " 'unsteadiness': 119,\n",
       " 'pus_filled_pimples': 120,\n",
       " 'blackheads': 121,\n",
       " 'scurring': 122,\n",
       " 'bladder_discomfort': 123,\n",
       " 'foul_smell_of': 124,\n",
       " 'urine': 125,\n",
       " 'continuous_feel_of_urine': 126,\n",
       " 'skin_peeling': 127,\n",
       " 'silver_like_dusting': 128,\n",
       " 'small_dents_in_nails': 129,\n",
       " 'inflammatory_nails': 130,\n",
       " 'blister': 131,\n",
       " 'red_sore_around_nose': 132,\n",
       " 'yellow_crust_ooze': 133}"
      ]
     },
     "execution_count": 62,
     "metadata": {},
     "output_type": "execute_result"
    }
   ],
   "source": [
    "word_dict"
   ]
  },
  {
   "cell_type": "code",
   "execution_count": 34,
   "metadata": {},
   "outputs": [
    {
     "data": {
      "text/plain": [
       "['itching', 'skin_rash', 'nodal_skin_eruptions', 'dischromic', '_patches']"
      ]
     },
     "execution_count": 34,
     "metadata": {},
     "output_type": "execute_result"
    }
   ],
   "source": [
    "list(df[\"symptoms\"][0])"
   ]
  },
  {
   "cell_type": "code",
   "execution_count": 11,
   "metadata": {},
   "outputs": [
    {
     "data": {
      "text/plain": [
       "4920"
      ]
     },
     "execution_count": 11,
     "metadata": {},
     "output_type": "execute_result"
    }
   ],
   "source": [
    "len(list(df[\"symptoms\"]))"
   ]
  },
  {
   "cell_type": "code",
   "execution_count": 35,
   "metadata": {},
   "outputs": [
    {
     "data": {
      "text/plain": [
       "list"
      ]
     },
     "execution_count": 35,
     "metadata": {},
     "output_type": "execute_result"
    }
   ],
   "source": [
    "type(df[\"symptoms\"][0])"
   ]
  },
  {
   "cell_type": "code",
   "execution_count": null,
   "metadata": {},
   "outputs": [],
   "source": [
    "df[\"symptoms\"][i]=str(df[\"symptoms\"][i]).replace(\" nan\",\"\")"
   ]
  },
  {
   "cell_type": "code",
   "execution_count": 65,
   "metadata": {},
   "outputs": [
    {
     "data": {
      "text/plain": [
       "'itching  skin_rash  nodal_skin_eruptions  dischromic _patches             '"
      ]
     },
     "execution_count": 65,
     "metadata": {},
     "output_type": "execute_result"
    }
   ],
   "source": [
    "str(df[\"symptoms\"][0]).replace(\"nan\",\"\")"
   ]
  },
  {
   "cell_type": "code",
   "execution_count": 49,
   "metadata": {},
   "outputs": [
    {
     "name": "stdout",
     "output_type": "stream",
     "text": [
      "Original DataFrame:\n",
      "        A         B      C\n",
      "0   apple       dog  green\n",
      "1  banana  elephant   blue\n",
      "2  cherry       fox    red\n",
      "\n",
      "DataFrame with Concatenated column (excluding the first column):\n",
      "        A         B      C   Concatenated\n",
      "0   apple       dog  green      dog green\n",
      "1  banana  elephant   blue  elephant blue\n",
      "2  cherry       fox    red        fox red\n"
     ]
    }
   ],
   "source": [
    "import pandas as pd\n",
    "\n",
    "# Sample DataFrame with categorical data\n",
    "data = {\n",
    "    'A': ['apple', 'banana', 'cherry'],\n",
    "    'B': ['dog', 'elephant', 'fox'],\n",
    "    'C': ['green', 'blue', 'red']\n",
    "}\n",
    "df1 = pd.DataFrame(data)\n",
    "\n",
    "# Print the original DataFrame\n",
    "print(\"Original DataFrame:\")\n",
    "print(df1)\n",
    "\n",
    "# Add a new column that is the concatenation of all columns except the first\n",
    "df1['Concatenated'] = df1.apply(lambda row: ' '.join(row.iloc[1:].values.astype(str)), axis=1)\n",
    "\n",
    "# Print the updated DataFrame\n",
    "print(\"\\nDataFrame with Concatenated column (excluding the first column):\")\n",
    "print(df1)\n"
   ]
  },
  {
   "cell_type": "code",
   "execution_count": 1,
   "metadata": {},
   "outputs": [],
   "source": [
    "from src.components.dataingestion import DataIngestion\n",
    "\n",
    "obj = DataIngestion()"
   ]
  },
  {
   "cell_type": "code",
   "execution_count": 2,
   "metadata": {},
   "outputs": [
    {
     "name": "stdout",
     "output_type": "stream",
     "text": [
      "[2024-06-14 12:38:22,486: INFO: dataingestion: Data Ingestion method starts]\n",
      "[2024-06-14 12:38:22,498: INFO: dataingestion: Data was sucessfully read as Pandas DataFrame]\n",
      "[2024-06-14 12:38:22,504: INFO: dataingestion: Data set is sucessfully divided into train and test sets]\n",
      "[2024-06-14 12:38:22,528: INFO: dataingestion: Ingestion of data is completed]\n"
     ]
    },
    {
     "data": {
      "text/plain": [
       "('D:\\\\Data Science\\\\ML\\\\Projects\\\\Medical_chatbot\\\\artifacts\\\\data_ingestion\\\\train.csv',\n",
       " 'D:\\\\Data Science\\\\ML\\\\Projects\\\\Medical_chatbot\\\\artifacts\\\\data_ingestion\\\\test.csv')"
      ]
     },
     "execution_count": 2,
     "metadata": {},
     "output_type": "execute_result"
    }
   ],
   "source": [
    "obj.initiate_data_ingestion()"
   ]
  },
  {
   "cell_type": "code",
   "execution_count": 1,
   "metadata": {},
   "outputs": [
    {
     "name": "stdout",
     "output_type": "stream",
     "text": [
      "[2024-06-14 19:24:09,115: INFO: utils: yaml file: D:\\Data Science\\ML\\Projects\\Medical_chatbot\\config.yaml loaded successfully]\n",
      "[2024-06-14 19:24:09,117: INFO: datatransformation: Features gropuing for processing is initited]\n",
      "[2024-06-14 19:24:10,428: INFO: datatransformation: Feature grouping is done]\n",
      "[2024-06-14 19:24:10,436: INFO: datatransformation: Initiated to converstion of symptomps into numerical features]\n",
      "[2024-06-14 19:24:11,034: INFO: datatransformation: converstion of symptomps into numerical features is done]\n"
     ]
    }
   ],
   "source": [
    "from src.components.datatransformation import DataTransformation\n",
    "\n",
    "\n",
    "obj = DataTransformation()\n",
    "\n",
    "obj.transform_data()"
   ]
  },
  {
   "cell_type": "code",
   "execution_count": null,
   "metadata": {},
   "outputs": [],
   "source": [
    "from"
   ]
  }
 ],
 "metadata": {
  "kernelspec": {
   "display_name": "myenv",
   "language": "python",
   "name": "python3"
  },
  "language_info": {
   "codemirror_mode": {
    "name": "ipython",
    "version": 3
   },
   "file_extension": ".py",
   "mimetype": "text/x-python",
   "name": "python",
   "nbconvert_exporter": "python",
   "pygments_lexer": "ipython3",
   "version": "3.8.18"
  }
 },
 "nbformat": 4,
 "nbformat_minor": 2
}
